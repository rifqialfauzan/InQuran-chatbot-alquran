{
 "cells": [
  {
   "cell_type": "code",
   "execution_count": 1,
   "metadata": {
    "ExecuteTime": {
     "end_time": "2024-03-31T05:32:42.113887900Z",
     "start_time": "2024-03-31T05:32:39.021435100Z"
    }
   },
   "outputs": [],
   "source": [
    "import json\n",
    "import pandas as pd\n",
    "\n",
    "with open('../data/data_SurahAyat.json', encoding=\"utf8\") as f:\n",
    "    surat = json.load(f)\n",
    "\n",
    "with open('../data/data_tafsir.json', encoding=\"utf8\") as f:\n",
    "    tafsir = json.load(f)\n",
    "\n",
    "# with open('data/All_surah.txt', encoding=\"utf8\") as surah_file:\n",
    "#     all_surah = json.load(surah_file)"
   ]
  },
  {
   "cell_type": "code",
   "execution_count": 2,
   "metadata": {
    "ExecuteTime": {
     "end_time": "2024-03-31T05:32:42.127869100Z",
     "start_time": "2024-03-31T05:32:42.111887400Z"
    }
   },
   "outputs": [
    {
     "data": {
      "text/plain": "{'tag': 'salam',\n 'patterns': ['halo', 'hai', 'hi', 'hay'],\n 'responses': ['halo, ada yang bisa saya bantu?',\n  'hai, ada yang ingin kamu tanyakan?']}"
     },
     "execution_count": 2,
     "metadata": {},
     "output_type": "execute_result"
    }
   ],
   "source": [
    "surat['intents'][0]"
   ]
  },
  {
   "cell_type": "code",
   "execution_count": 3,
   "metadata": {
    "ExecuteTime": {
     "end_time": "2024-03-31T05:32:42.318548700Z",
     "start_time": "2024-03-31T05:32:42.123869700Z"
    }
   },
   "outputs": [
    {
     "data": {
      "text/plain": "                  pola_teks     intents\n0                      halo       salam\n1                       hai       salam\n2                        hi       salam\n3                       hay       salam\n4         qs alfatihah ayat     fatihah\n...                     ...         ...\n2152  tafsir qs an nas ayat  nas_tafsir\n2153   tafsir qs annas ayat  nas_tafsir\n2154     tafsir an nas ayat  nas_tafsir\n2155      tafsir annas ayat  nas_tafsir\n2156        tafsir nas ayat  nas_tafsir\n\n[2157 rows x 2 columns]",
      "text/html": "<div>\n<style scoped>\n    .dataframe tbody tr th:only-of-type {\n        vertical-align: middle;\n    }\n\n    .dataframe tbody tr th {\n        vertical-align: top;\n    }\n\n    .dataframe thead th {\n        text-align: right;\n    }\n</style>\n<table border=\"1\" class=\"dataframe\">\n  <thead>\n    <tr style=\"text-align: right;\">\n      <th></th>\n      <th>pola_teks</th>\n      <th>intents</th>\n    </tr>\n  </thead>\n  <tbody>\n    <tr>\n      <th>0</th>\n      <td>halo</td>\n      <td>salam</td>\n    </tr>\n    <tr>\n      <th>1</th>\n      <td>hai</td>\n      <td>salam</td>\n    </tr>\n    <tr>\n      <th>2</th>\n      <td>hi</td>\n      <td>salam</td>\n    </tr>\n    <tr>\n      <th>3</th>\n      <td>hay</td>\n      <td>salam</td>\n    </tr>\n    <tr>\n      <th>4</th>\n      <td>qs alfatihah ayat</td>\n      <td>fatihah</td>\n    </tr>\n    <tr>\n      <th>...</th>\n      <td>...</td>\n      <td>...</td>\n    </tr>\n    <tr>\n      <th>2152</th>\n      <td>tafsir qs an nas ayat</td>\n      <td>nas_tafsir</td>\n    </tr>\n    <tr>\n      <th>2153</th>\n      <td>tafsir qs annas ayat</td>\n      <td>nas_tafsir</td>\n    </tr>\n    <tr>\n      <th>2154</th>\n      <td>tafsir an nas ayat</td>\n      <td>nas_tafsir</td>\n    </tr>\n    <tr>\n      <th>2155</th>\n      <td>tafsir annas ayat</td>\n      <td>nas_tafsir</td>\n    </tr>\n    <tr>\n      <th>2156</th>\n      <td>tafsir nas ayat</td>\n      <td>nas_tafsir</td>\n    </tr>\n  </tbody>\n</table>\n<p>2157 rows × 2 columns</p>\n</div>"
     },
     "execution_count": 3,
     "metadata": {},
     "output_type": "execute_result"
    }
   ],
   "source": [
    "pola_teks=[]\n",
    "intents = []\n",
    "\n",
    "for intent in surat['intents']:\n",
    "    for pattern in intent['patterns']:\n",
    "        pola_teks.append(pattern)\n",
    "        intents.append(intent['tag'])\n",
    "\n",
    "for intent in tafsir['intents']:\n",
    "    for pattern in intent['patterns']:\n",
    "        pola_teks.append(pattern)\n",
    "        intents.append(intent['tag'])\n",
    "\n",
    "df = pd.DataFrame({'pola_teks': pola_teks,\n",
    "                    'intents': intents})\n",
    "\n",
    "len(set(intents))\n",
    "df"
   ]
  },
  {
   "cell_type": "code",
   "execution_count": 4,
   "metadata": {
    "ExecuteTime": {
     "end_time": "2024-03-31T05:32:42.787898200Z",
     "start_time": "2024-03-31T05:32:42.318548700Z"
    }
   },
   "outputs": [
    {
     "name": "stderr",
     "output_type": "stream",
     "text": [
      "C:\\Users\\Lord Of Zangester\\AppData\\Local\\Temp\\ipykernel_9116\\1537608661.py:2: FutureWarning: ChainedAssignmentError: behaviour will change in pandas 3.0!\n",
      "You are setting values through chained assignment. Currently this works in certain cases, but when using Copy-on-Write (which will become the default behaviour in pandas 3.0) this will never work to update the original DataFrame or Series, because the intermediate object on which we are setting values will behave as a copy.\n",
      "A typical example is when you are setting values in a column of a DataFrame, like:\n",
      "\n",
      "df[\"col\"][row_indexer] = value\n",
      "\n",
      "Use `df.loc[row_indexer, \"col\"] = values` instead, to perform the assignment in a single step and ensure this keeps updating the original `df`.\n",
      "\n",
      "See the caveats in the documentation: https://pandas.pydata.org/pandas-docs/stable/user_guide/indexing.html#returning-a-view-versus-a-copy\n",
      "\n",
      "  df.pola_teks[i] = df.pola_teks[i].split()\n"
     ]
    },
    {
     "data": {
      "text/plain": "                        pola_teks     intents\n0                          [halo]       salam\n1                           [hai]       salam\n2                            [hi]       salam\n3                           [hay]       salam\n4           [qs, alfatihah, ayat]     fatihah\n...                           ...         ...\n2152  [tafsir, qs, an, nas, ayat]  nas_tafsir\n2153    [tafsir, qs, annas, ayat]  nas_tafsir\n2154      [tafsir, an, nas, ayat]  nas_tafsir\n2155        [tafsir, annas, ayat]  nas_tafsir\n2156          [tafsir, nas, ayat]  nas_tafsir\n\n[2157 rows x 2 columns]",
      "text/html": "<div>\n<style scoped>\n    .dataframe tbody tr th:only-of-type {\n        vertical-align: middle;\n    }\n\n    .dataframe tbody tr th {\n        vertical-align: top;\n    }\n\n    .dataframe thead th {\n        text-align: right;\n    }\n</style>\n<table border=\"1\" class=\"dataframe\">\n  <thead>\n    <tr style=\"text-align: right;\">\n      <th></th>\n      <th>pola_teks</th>\n      <th>intents</th>\n    </tr>\n  </thead>\n  <tbody>\n    <tr>\n      <th>0</th>\n      <td>[halo]</td>\n      <td>salam</td>\n    </tr>\n    <tr>\n      <th>1</th>\n      <td>[hai]</td>\n      <td>salam</td>\n    </tr>\n    <tr>\n      <th>2</th>\n      <td>[hi]</td>\n      <td>salam</td>\n    </tr>\n    <tr>\n      <th>3</th>\n      <td>[hay]</td>\n      <td>salam</td>\n    </tr>\n    <tr>\n      <th>4</th>\n      <td>[qs, alfatihah, ayat]</td>\n      <td>fatihah</td>\n    </tr>\n    <tr>\n      <th>...</th>\n      <td>...</td>\n      <td>...</td>\n    </tr>\n    <tr>\n      <th>2152</th>\n      <td>[tafsir, qs, an, nas, ayat]</td>\n      <td>nas_tafsir</td>\n    </tr>\n    <tr>\n      <th>2153</th>\n      <td>[tafsir, qs, annas, ayat]</td>\n      <td>nas_tafsir</td>\n    </tr>\n    <tr>\n      <th>2154</th>\n      <td>[tafsir, an, nas, ayat]</td>\n      <td>nas_tafsir</td>\n    </tr>\n    <tr>\n      <th>2155</th>\n      <td>[tafsir, annas, ayat]</td>\n      <td>nas_tafsir</td>\n    </tr>\n    <tr>\n      <th>2156</th>\n      <td>[tafsir, nas, ayat]</td>\n      <td>nas_tafsir</td>\n    </tr>\n  </tbody>\n</table>\n<p>2157 rows × 2 columns</p>\n</div>"
     },
     "execution_count": 4,
     "metadata": {},
     "output_type": "execute_result"
    }
   ],
   "source": [
    "for i in range(len(df.pola_teks)):\n",
    "    df.pola_teks[i] = df.pola_teks[i].split()\n",
    "\n",
    "df"
   ]
  },
  {
   "cell_type": "code",
   "execution_count": 5,
   "metadata": {
    "ExecuteTime": {
     "end_time": "2024-03-31T05:32:52.217999800Z",
     "start_time": "2024-03-31T05:32:42.787898200Z"
    }
   },
   "outputs": [
    {
     "data": {
      "text/plain": "{'halo': 269,\n 'hai': 266,\n 'hi': 277,\n 'hay': 276,\n 'qs': 383,\n 'alfatihah': 50,\n 'ayat': 218,\n 'al': 12,\n 'fatihah': 247,\n 'surat': 410,\n 'alfatiha': 49,\n 'fatiha': 246,\n 'albaqarah': 39,\n 'baqarah': 229,\n 'albaqara': 38,\n 'baqara': 228,\n 'baqoro': 230,\n 'aliimran': 80,\n 'ali': 79,\n 'imran': 288,\n 'imron': 289,\n 'annisa': 171,\n 'an': 154,\n 'nisa': 365,\n 'almaidah': 112,\n 'maidah': 324,\n 'almaida': 111,\n 'maida': 323,\n 'alanam': 25,\n 'anam': 155,\n 'alaraf': 32,\n 'araf': 174,\n 'alanfal': 28,\n 'anfal': 158,\n 'attaubah': 215,\n 'at': 202,\n 'taubah': 432,\n 'attauba': 214,\n 'tauba': 431,\n 'tawbah': 434,\n 'tawba': 433,\n 'yunus': 444,\n 'surah': 409,\n 'alhud': 74,\n 'hud': 280,\n 'alhut': 78,\n 'hut': 284,\n 'yusuf': 445,\n 'arrad': 175,\n 'ar': 173,\n 'rad': 386,\n 'arrat': 177,\n 'rat': 388,\n 'ibrahim': 285,\n 'alhijr': 73,\n 'hijr': 279,\n 'alhijir': 72,\n 'hijir': 278,\n 'annahl': 163,\n 'nahl': 355,\n 'annahal': 162,\n 'nahal': 354,\n 'alisra': 93,\n 'isra': 300,\n 'alisro': 94,\n 'isro': 301,\n 'alkahfi': 103,\n 'kahfi': 311,\n 'alkahf': 102,\n 'kahf': 310,\n 'mariam': 325,\n 'maryam': 326,\n 'taha': 422,\n 'thaha': 435,\n 'toha': 437,\n 'alanbiya': 26,\n 'anbiya': 156,\n 'alambiya': 24,\n 'ambiya': 153,\n 'alanbya': 27,\n 'anbya': 157,\n 'alhajj': 67,\n 'hajj': 268,\n 'alhaj': 66,\n 'haj': 267,\n 'almuminun': 123,\n 'muminun': 339,\n 'annur': 172,\n 'nur': 368,\n 'alfurqan': 54,\n 'furqan': 251,\n 'alfurqon': 55,\n 'furqon': 252,\n 'asysyuara': 200,\n 'asy': 197,\n 'syuara': 415,\n 'assyuara': 195,\n 'asshuara': 190,\n 'shuara': 400,\n 'annaml': 166,\n 'naml': 358,\n 'annamal': 165,\n 'namal': 357,\n 'alqasas': 141,\n 'qasas': 376,\n 'alqashas': 142,\n 'qashas': 377,\n 'alankabut': 30,\n 'ankabut': 160,\n 'alangkabut': 29,\n 'angkabut': 159,\n 'arrum': 179,\n 'rum': 390,\n 'luqman': 321,\n 'lukman': 320,\n 'assajdah': 188,\n 'as': 181,\n 'sajdah': 398,\n 'assajadah': 187,\n 'sajadah': 397,\n 'alahzab': 18,\n 'ahzab': 11,\n 'alazab': 35,\n 'azab': 220,\n 'saba': 391,\n 'soba': 403,\n 'alfatir': 51,\n 'fatir': 248,\n 'alfathir': 48,\n 'fathir': 245,\n 'yasin': 443,\n 'assaffat': 186,\n 'saffat': 396,\n 'assoffat': 192,\n 'soffat': 408,\n 'sofat': 406,\n 'safat': 394,\n 'sad': 392,\n 'sod': 404,\n 'azzumar': 225,\n 'az': 219,\n 'zumar': 451,\n 'almumin': 122,\n 'mumin': 338,\n 'alghafir': 60,\n 'ghafir': 258,\n 'alfussilat': 58,\n 'fussilat': 255,\n 'alfusilat': 57,\n 'fusilat': 254,\n 'alfushilat': 56,\n 'fushilat': 253,\n 'asysyura': 201,\n 'syura': 416,\n 'assyura': 196,\n 'asshura': 191,\n 'shura': 401,\n 'azzukhruf': 224,\n 'zukhruf': 450,\n 'addukhan': 4,\n 'ad': 1,\n 'dukhan': 237,\n 'addukhon': 5,\n 'dukhon': 238,\n 'jatsiyah': 303,\n 'aljasiyah': 96,\n 'jasiyah': 302,\n 'alahqaf': 16,\n 'ahqaf': 9,\n 'alahqof': 17,\n 'ahqof': 10,\n 'ahkof': 8,\n 'muhammad': 333,\n 'alfath': 47,\n 'fath': 244,\n 'alhujurat': 75,\n 'hujurat': 281,\n 'qaf': 371,\n 'qof': 380,\n 'azzariyat': 223,\n 'zariyat': 449,\n 'azzariat': 222,\n 'zariat': 447,\n 'attur': 217,\n 'tur': 438,\n 'annajm': 164,\n 'najm': 356,\n 'alqamar': 138,\n 'qamar': 373,\n 'alqomar': 146,\n 'qomar': 382,\n 'arrahman': 176,\n 'rahman': 387,\n 'arrohman': 178,\n 'rohman': 389,\n 'alwaqiah': 150,\n 'waqiah': 440,\n 'alwaqiyah': 151,\n 'waqiyah': 441,\n 'alhadid': 65,\n 'hadid': 265,\n 'almujadilah': 119,\n 'mujadilah': 335,\n 'almujadalah': 118,\n 'mujadalah': 334,\n 'alhasyr': 71,\n 'hasyr': 275,\n 'alhasr': 70,\n 'hasr': 274,\n 'almumtahanah': 125,\n 'mumtahanah': 341,\n 'almumtahana': 124,\n 'mumtahana': 340,\n 'assaff': 185,\n 'saff': 395,\n 'assaf': 184,\n 'saf': 393,\n 'sof': 405,\n 'aljumuah': 100,\n 'jumuah': 308,\n 'aljumah': 99,\n 'jumah': 306,\n 'almunafiqun': 127,\n 'munafiqun': 343,\n 'almunafikun': 126,\n 'munafikun': 342,\n 'attagabun': 203,\n 'tagabun': 419,\n 'attaghabun': 204,\n 'taghabun': 420,\n 'tagobun': 421,\n 'attalaq': 211,\n 'talaq': 428,\n 'attalak': 210,\n 'talak': 427,\n 'attahrim': 206,\n 'tahrim': 423,\n 'almulk': 120,\n 'mulk': 336,\n 'almuluk': 121,\n 'muluk': 337,\n 'alqalam': 137,\n 'qalam': 372,\n 'alqolam': 145,\n 'qolam': 381,\n 'alhaqqah': 69,\n 'haqqah': 272,\n 'alhaqah': 68,\n 'haqah': 270,\n 'almaarij': 110,\n 'maarij': 322,\n 'nuh': 367,\n 'aljin': 98,\n 'jin': 304,\n 'almuzzammil': 134,\n 'muzzammil': 352,\n 'almuzammil': 133,\n 'muzammil': 350,\n 'almuzamil': 132,\n 'muzamil': 349,\n 'almuddassir': 117,\n 'muddassir': 332,\n 'almudassir': 115,\n 'mudassir': 329,\n 'almudasir': 114,\n 'mudasir': 328,\n 'muddasir': 331,\n 'alqiyamah': 144,\n 'qiyamah': 379,\n 'alqiamah': 143,\n 'qiamah': 378,\n 'kiamah': 316,\n 'alinsan': 85,\n 'insan': 292,\n 'almursalat': 128,\n 'mursalat': 344,\n 'almursilat': 129,\n 'mursilat': 345,\n 'annaba': 161,\n 'naba': 353,\n 'annaziat': 169,\n 'naziat': 363,\n 'annaziyat': 170,\n 'naziyat': 364,\n 'abasa': 0,\n 'attakwir': 209,\n 'takwir': 426,\n 'alinfitar': 83,\n 'infitar': 290,\n 'alinfithar': 84,\n 'infithar': 291,\n 'almutaffifin': 130,\n 'mutaffifin': 346,\n 'almutafifin': 131,\n 'mutafifin': 347,\n 'alinsyqaq': 92,\n 'insyqaq': 299,\n 'alinsiqok': 88,\n 'insiqok': 295,\n 'alburuj': 42,\n 'buruj': 234,\n 'attariq': 213,\n 'tariq': 430,\n 'attarik': 212,\n 'tarik': 429,\n 'alala': 20,\n 'ala': 13,\n 'alghasyiyah': 62,\n 'ghasyiyah': 260,\n 'alghasiyah': 61,\n 'ghasiyah': 259,\n 'algosiah': 63,\n 'gosiah': 263,\n 'alfajr': 44,\n 'fajr': 241,\n 'alfajer': 43,\n 'fajer': 240,\n 'albalad': 36,\n 'balad': 226,\n 'albalat': 37,\n 'balat': 227,\n 'asysyams': 198,\n 'syams': 412,\n 'assyams': 194,\n 'asshams': 189,\n 'shams': 399,\n 'assyam': 193,\n 'syam': 411,\n 'allail': 108,\n 'lail': 318,\n 'allayl': 109,\n 'layl': 319,\n 'adduha': 3,\n 'duha': 236,\n 'addhuha': 2,\n 'dhuha': 235,\n 'alinshirah': 86,\n 'inshirah': 293,\n 'asysyarkh': 199,\n 'syarkh': 414,\n 'alam': 23,\n 'nasyrah': 362,\n 'nasrah': 361,\n 'attin': 216,\n 'tin': 436,\n 'alalaq': 22,\n 'alaq': 31,\n 'alalak': 21,\n 'alak': 19,\n 'alqadr': 136,\n 'qadr': 370,\n 'alqadar': 135,\n 'qadar': 369,\n 'albayyinah': 41,\n 'bayyinah': 232,\n 'albayinah': 40,\n 'bayinah': 231,\n 'azzalzalah': 221,\n 'zalzalah': 446,\n 'alzalzalah': 152,\n 'aladiyat': 15,\n 'adiyat': 7,\n 'aladiat': 14,\n 'adiat': 6,\n 'alqariah': 139,\n 'qariah': 374,\n 'alqariyah': 140,\n 'qariyah': 375,\n 'attakasur': 207,\n 'takasur': 424,\n 'attakatsur': 208,\n 'takatsur': 425,\n 'alasr': 33,\n 'asr': 182,\n 'alasri': 34,\n 'asri': 183,\n 'alhumazah': 77,\n 'humazah': 283,\n 'alhumaza': 76,\n 'humaza': 282,\n 'alfil': 52,\n 'fil': 249,\n 'alfill': 53,\n 'fill': 250,\n 'quraisy': 385,\n 'quraish': 384,\n 'almaun': 113,\n 'maun': 327,\n 'alkausar': 104,\n 'kausar': 312,\n 'alkawsar': 106,\n 'kawsar': 314,\n 'alkafirun': 101,\n 'kafirun': 309,\n 'annasr': 168,\n 'nasr': 360,\n 'allahab': 107,\n 'lahab': 317,\n 'alikhlas': 81,\n 'ikhlas': 286,\n 'aliklas': 82,\n 'iklas': 287,\n 'alfalaq': 46,\n 'falaq': 243,\n 'alfalak': 45,\n 'falak': 242,\n 'annas': 167,\n 'nas': 359,\n 'arti': 180,\n 'golongan': 262,\n 'jumlah': 307,\n 'nomor': 366,\n 'ke': 315,\n 'berapa': 233,\n 'jinn': 305,\n 'mudatsir': 330,\n 'almudatsir': 116,\n 'insyiqaq': 298,\n 'alinsyiqaq': 91,\n 'alquraisy': 148,\n 'kautsar': 313,\n 'alkautsar': 105,\n 'tafsir': 418,\n 'ya': 442,\n 'sin': 402,\n 'ghofir': 261,\n 'gafir': 256,\n 'syuro': 417,\n 'aljatsiyah': 97,\n 'aljasiah': 95,\n 'zariyah': 448,\n 'waiqah': 439,\n 'alwaiqah': 149,\n 'hasir': 273,\n 'soff': 407,\n 'attagobun': 205,\n 'haqoh': 271,\n 'muzzamil': 351,\n 'mutofifin': 348,\n 'insiqaq': 294,\n 'insiqoq': 296,\n 'alinsiqaq': 87,\n 'alinsiqoq': 89,\n 'gasiyah': 257,\n 'gosiyah': 264,\n 'algasiyah': 59,\n 'algosiyah': 64,\n 'fajar': 239,\n 'insirah': 297,\n 'alinsirah': 90,\n 'syarh': 413,\n 'alquraish': 147}"
     },
     "execution_count": 5,
     "metadata": {},
     "output_type": "execute_result"
    }
   ],
   "source": [
    "from sklearn.feature_extraction.text import TfidfVectorizer, CountVectorizer\n",
    "\n",
    "tfidfVectorizer = TfidfVectorizer(norm=None, smooth_idf=True) # Ini untuk TFIDF\n",
    "countVectorizer = CountVectorizer() # Ini untuk ngeliat tiap frequency term \n",
    "tfidf = tfidfVectorizer.fit_transform(pola_teks)\n",
    "count = countVectorizer.fit_transform(pola_teks)\n",
    "tfidf[1898].toarray()\n",
    "tfidfVectorizer.vocabulary_"
   ]
  },
  {
   "cell_type": "code",
   "execution_count": 6,
   "metadata": {
    "ExecuteTime": {
     "end_time": "2024-03-31T05:32:52.405399500Z",
     "start_time": "2024-03-31T05:32:52.220000300Z"
    }
   },
   "outputs": [
    {
     "data": {
      "text/plain": "            D1   D2   D3   D4   D5   D6   D7   D8   D9  D10  ...  D2148  \\\nhalo       0.0  0.0  0.0  0.0  0.0  0.0  0.0  0.0  0.0  0.0  ...    0.0   \nhai        0.0  0.0  0.0  0.0  0.0  0.0  0.0  0.0  0.0  0.0  ...    0.0   \nhi         0.0  0.0  0.0  0.0  0.0  0.0  0.0  0.0  0.0  0.0  ...    0.0   \nhay        0.0  0.0  0.0  0.0  0.0  0.0  0.0  0.0  0.0  0.0  ...    0.0   \nqs         0.0  0.0  0.0  0.0  0.0  0.0  0.0  0.0  0.0  0.0  ...    0.0   \n...        ...  ...  ...  ...  ...  ...  ...  ...  ...  ...  ...    ...   \nfajar      0.0  0.0  0.0  0.0  0.0  0.0  0.0  0.0  0.0  0.0  ...    0.0   \ninsirah    0.0  0.0  0.0  0.0  0.0  0.0  0.0  0.0  0.0  0.0  ...    0.0   \nalinsirah  0.0  0.0  0.0  0.0  0.0  0.0  0.0  0.0  0.0  0.0  ...    0.0   \nsyarh      0.0  0.0  0.0  0.0  0.0  0.0  0.0  0.0  0.0  0.0  ...    0.0   \nalquraish  0.0  0.0  0.0  0.0  0.0  0.0  0.0  0.0  0.0  0.0  ...    0.0   \n\n           D2149  D2150  D2151  D2152  D2153  D2154  D2155  D2156  D2157  \nhalo         0.0    0.0    0.0    0.0    0.0    0.0    0.0    0.0    0.0  \nhai          0.0    0.0    0.0    0.0    0.0    0.0    0.0    0.0    0.0  \nhi           0.0    0.0    0.0    0.0    0.0    0.0    0.0    0.0    0.0  \nhay          0.0    0.0    0.0    0.0    0.0    0.0    0.0    0.0    0.0  \nqs           0.0    0.0    0.0    0.0    0.0    0.0    0.0    0.0    0.0  \n...          ...    ...    ...    ...    ...    ...    ...    ...    ...  \nfajar        0.0    0.0    0.0    0.0    0.0    0.0    0.0    0.0    0.0  \ninsirah      0.0    0.0    0.0    0.0    0.0    0.0    0.0    0.0    0.0  \nalinsirah    0.0    0.0    0.0    0.0    0.0    0.0    0.0    0.0    0.0  \nsyarh        0.0    0.0    0.0    0.0    0.0    0.0    0.0    0.0    0.0  \nalquraish    0.0    0.0    0.0    0.0    0.0    0.0    0.0    0.0    0.0  \n\n[452 rows x 2157 columns]",
      "text/html": "<div>\n<style scoped>\n    .dataframe tbody tr th:only-of-type {\n        vertical-align: middle;\n    }\n\n    .dataframe tbody tr th {\n        vertical-align: top;\n    }\n\n    .dataframe thead th {\n        text-align: right;\n    }\n</style>\n<table border=\"1\" class=\"dataframe\">\n  <thead>\n    <tr style=\"text-align: right;\">\n      <th></th>\n      <th>D1</th>\n      <th>D2</th>\n      <th>D3</th>\n      <th>D4</th>\n      <th>D5</th>\n      <th>D6</th>\n      <th>D7</th>\n      <th>D8</th>\n      <th>D9</th>\n      <th>D10</th>\n      <th>...</th>\n      <th>D2148</th>\n      <th>D2149</th>\n      <th>D2150</th>\n      <th>D2151</th>\n      <th>D2152</th>\n      <th>D2153</th>\n      <th>D2154</th>\n      <th>D2155</th>\n      <th>D2156</th>\n      <th>D2157</th>\n    </tr>\n  </thead>\n  <tbody>\n    <tr>\n      <th>halo</th>\n      <td>0.0</td>\n      <td>0.0</td>\n      <td>0.0</td>\n      <td>0.0</td>\n      <td>0.0</td>\n      <td>0.0</td>\n      <td>0.0</td>\n      <td>0.0</td>\n      <td>0.0</td>\n      <td>0.0</td>\n      <td>...</td>\n      <td>0.0</td>\n      <td>0.0</td>\n      <td>0.0</td>\n      <td>0.0</td>\n      <td>0.0</td>\n      <td>0.0</td>\n      <td>0.0</td>\n      <td>0.0</td>\n      <td>0.0</td>\n      <td>0.0</td>\n    </tr>\n    <tr>\n      <th>hai</th>\n      <td>0.0</td>\n      <td>0.0</td>\n      <td>0.0</td>\n      <td>0.0</td>\n      <td>0.0</td>\n      <td>0.0</td>\n      <td>0.0</td>\n      <td>0.0</td>\n      <td>0.0</td>\n      <td>0.0</td>\n      <td>...</td>\n      <td>0.0</td>\n      <td>0.0</td>\n      <td>0.0</td>\n      <td>0.0</td>\n      <td>0.0</td>\n      <td>0.0</td>\n      <td>0.0</td>\n      <td>0.0</td>\n      <td>0.0</td>\n      <td>0.0</td>\n    </tr>\n    <tr>\n      <th>hi</th>\n      <td>0.0</td>\n      <td>0.0</td>\n      <td>0.0</td>\n      <td>0.0</td>\n      <td>0.0</td>\n      <td>0.0</td>\n      <td>0.0</td>\n      <td>0.0</td>\n      <td>0.0</td>\n      <td>0.0</td>\n      <td>...</td>\n      <td>0.0</td>\n      <td>0.0</td>\n      <td>0.0</td>\n      <td>0.0</td>\n      <td>0.0</td>\n      <td>0.0</td>\n      <td>0.0</td>\n      <td>0.0</td>\n      <td>0.0</td>\n      <td>0.0</td>\n    </tr>\n    <tr>\n      <th>hay</th>\n      <td>0.0</td>\n      <td>0.0</td>\n      <td>0.0</td>\n      <td>0.0</td>\n      <td>0.0</td>\n      <td>0.0</td>\n      <td>0.0</td>\n      <td>0.0</td>\n      <td>0.0</td>\n      <td>0.0</td>\n      <td>...</td>\n      <td>0.0</td>\n      <td>0.0</td>\n      <td>0.0</td>\n      <td>0.0</td>\n      <td>0.0</td>\n      <td>0.0</td>\n      <td>0.0</td>\n      <td>0.0</td>\n      <td>0.0</td>\n      <td>0.0</td>\n    </tr>\n    <tr>\n      <th>qs</th>\n      <td>0.0</td>\n      <td>0.0</td>\n      <td>0.0</td>\n      <td>0.0</td>\n      <td>0.0</td>\n      <td>0.0</td>\n      <td>0.0</td>\n      <td>0.0</td>\n      <td>0.0</td>\n      <td>0.0</td>\n      <td>...</td>\n      <td>0.0</td>\n      <td>0.0</td>\n      <td>0.0</td>\n      <td>0.0</td>\n      <td>0.0</td>\n      <td>0.0</td>\n      <td>0.0</td>\n      <td>0.0</td>\n      <td>0.0</td>\n      <td>0.0</td>\n    </tr>\n    <tr>\n      <th>...</th>\n      <td>...</td>\n      <td>...</td>\n      <td>...</td>\n      <td>...</td>\n      <td>...</td>\n      <td>...</td>\n      <td>...</td>\n      <td>...</td>\n      <td>...</td>\n      <td>...</td>\n      <td>...</td>\n      <td>...</td>\n      <td>...</td>\n      <td>...</td>\n      <td>...</td>\n      <td>...</td>\n      <td>...</td>\n      <td>...</td>\n      <td>...</td>\n      <td>...</td>\n      <td>...</td>\n    </tr>\n    <tr>\n      <th>fajar</th>\n      <td>0.0</td>\n      <td>0.0</td>\n      <td>0.0</td>\n      <td>0.0</td>\n      <td>0.0</td>\n      <td>0.0</td>\n      <td>0.0</td>\n      <td>0.0</td>\n      <td>0.0</td>\n      <td>0.0</td>\n      <td>...</td>\n      <td>0.0</td>\n      <td>0.0</td>\n      <td>0.0</td>\n      <td>0.0</td>\n      <td>0.0</td>\n      <td>0.0</td>\n      <td>0.0</td>\n      <td>0.0</td>\n      <td>0.0</td>\n      <td>0.0</td>\n    </tr>\n    <tr>\n      <th>insirah</th>\n      <td>0.0</td>\n      <td>0.0</td>\n      <td>0.0</td>\n      <td>0.0</td>\n      <td>0.0</td>\n      <td>0.0</td>\n      <td>0.0</td>\n      <td>0.0</td>\n      <td>0.0</td>\n      <td>0.0</td>\n      <td>...</td>\n      <td>0.0</td>\n      <td>0.0</td>\n      <td>0.0</td>\n      <td>0.0</td>\n      <td>0.0</td>\n      <td>0.0</td>\n      <td>0.0</td>\n      <td>0.0</td>\n      <td>0.0</td>\n      <td>0.0</td>\n    </tr>\n    <tr>\n      <th>alinsirah</th>\n      <td>0.0</td>\n      <td>0.0</td>\n      <td>0.0</td>\n      <td>0.0</td>\n      <td>0.0</td>\n      <td>0.0</td>\n      <td>0.0</td>\n      <td>0.0</td>\n      <td>0.0</td>\n      <td>0.0</td>\n      <td>...</td>\n      <td>0.0</td>\n      <td>0.0</td>\n      <td>0.0</td>\n      <td>0.0</td>\n      <td>0.0</td>\n      <td>0.0</td>\n      <td>0.0</td>\n      <td>0.0</td>\n      <td>0.0</td>\n      <td>0.0</td>\n    </tr>\n    <tr>\n      <th>syarh</th>\n      <td>0.0</td>\n      <td>0.0</td>\n      <td>0.0</td>\n      <td>0.0</td>\n      <td>0.0</td>\n      <td>0.0</td>\n      <td>0.0</td>\n      <td>0.0</td>\n      <td>0.0</td>\n      <td>0.0</td>\n      <td>...</td>\n      <td>0.0</td>\n      <td>0.0</td>\n      <td>0.0</td>\n      <td>0.0</td>\n      <td>0.0</td>\n      <td>0.0</td>\n      <td>0.0</td>\n      <td>0.0</td>\n      <td>0.0</td>\n      <td>0.0</td>\n    </tr>\n    <tr>\n      <th>alquraish</th>\n      <td>0.0</td>\n      <td>0.0</td>\n      <td>0.0</td>\n      <td>0.0</td>\n      <td>0.0</td>\n      <td>0.0</td>\n      <td>0.0</td>\n      <td>0.0</td>\n      <td>0.0</td>\n      <td>0.0</td>\n      <td>...</td>\n      <td>0.0</td>\n      <td>0.0</td>\n      <td>0.0</td>\n      <td>0.0</td>\n      <td>0.0</td>\n      <td>0.0</td>\n      <td>0.0</td>\n      <td>0.0</td>\n      <td>0.0</td>\n      <td>0.0</td>\n    </tr>\n  </tbody>\n</table>\n<p>452 rows × 2157 columns</p>\n</div>"
     },
     "execution_count": 6,
     "metadata": {},
     "output_type": "execute_result"
    }
   ],
   "source": [
    "D_idx = []\n",
    "for i in range(2157):\n",
    "    D_idx.append('D' + str(i+1))\n",
    "\n",
    "df_tfidf = pd.DataFrame(data=tfidf.toarray(), columns=tfidfVectorizer.vocabulary_, index=D_idx)\n",
    "\n",
    "df_tfidf.T"
   ]
  },
  {
   "cell_type": "code",
   "execution_count": 7,
   "metadata": {
    "ExecuteTime": {
     "end_time": "2024-03-31T05:32:52.533780500Z",
     "start_time": "2024-03-31T05:32:52.406399Z"
    }
   },
   "outputs": [
    {
     "data": {
      "text/plain": "array([282, 282, 282, ..., 218, 218, 218])"
     },
     "execution_count": 7,
     "metadata": {},
     "output_type": "execute_result"
    }
   ],
   "source": [
    "# Ini untuk mengubah label sesuai indeksnya\n",
    "from sklearn.preprocessing import LabelEncoder\n",
    "\n",
    "le = LabelEncoder()\n",
    "label = le.fit_transform(df.intents) \n",
    "# print(len(le.inverse_transform(label)))\n",
    "label"
   ]
  },
  {
   "cell_type": "code",
   "execution_count": 8,
   "metadata": {
    "ExecuteTime": {
     "end_time": "2024-03-31T05:32:52.550780200Z",
     "start_time": "2024-03-31T05:32:52.486435800Z"
    }
   },
   "outputs": [
    {
     "data": {
      "text/plain": "(2157,)"
     },
     "execution_count": 8,
     "metadata": {},
     "output_type": "execute_result"
    }
   ],
   "source": [
    "x = tfidf\n",
    "y = label\n",
    "\n",
    "y.shape"
   ]
  },
  {
   "cell_type": "code",
   "execution_count": 9,
   "metadata": {
    "ExecuteTime": {
     "end_time": "2024-03-31T05:32:53.483172500Z",
     "start_time": "2024-03-31T05:32:52.519780800Z"
    }
   },
   "outputs": [
    {
     "data": {
      "text/plain": "(1725, 452)"
     },
     "execution_count": 9,
     "metadata": {},
     "output_type": "execute_result"
    }
   ],
   "source": [
    "#Pembagian data train dan test\n",
    "from sklearn.model_selection import train_test_split\n",
    "\n",
    "teks_train, teks_test, label_train, label_test = train_test_split(x,y, test_size=.20)\n",
    "\n",
    "teks_train.shape\n",
    "# teks_test.shape\n"
   ]
  },
  {
   "cell_type": "code",
   "execution_count": 10,
   "metadata": {
    "ExecuteTime": {
     "end_time": "2024-03-31T05:33:28.371272100Z",
     "start_time": "2024-03-31T05:32:53.480171900Z"
    }
   },
   "outputs": [
    {
     "name": "stdout",
     "output_type": "stream",
     "text": [
      "Iteration 1, loss = 5.81010502\n",
      "Iteration 2, loss = 5.63592091\n",
      "Iteration 3, loss = 5.40936437\n",
      "Iteration 4, loss = 5.09560837\n",
      "Iteration 5, loss = 4.67836192\n",
      "Iteration 6, loss = 4.19040031\n",
      "Iteration 7, loss = 3.67340631\n",
      "Iteration 8, loss = 3.15769379\n",
      "Iteration 9, loss = 2.68385829\n",
      "Iteration 10, loss = 2.25546819\n",
      "Iteration 11, loss = 1.87394437\n",
      "Iteration 12, loss = 1.54458893\n",
      "Iteration 13, loss = 1.25716338\n",
      "Iteration 14, loss = 1.02276542\n",
      "Iteration 15, loss = 0.82389019\n",
      "Iteration 16, loss = 0.66474933\n",
      "Iteration 17, loss = 0.54141242\n",
      "Iteration 18, loss = 0.43802967\n",
      "Iteration 19, loss = 0.35952437\n",
      "Iteration 20, loss = 0.29562211\n",
      "Iteration 21, loss = 0.24617322\n",
      "Iteration 22, loss = 0.20860112\n",
      "Iteration 23, loss = 0.17727459\n",
      "Iteration 24, loss = 0.15393653\n",
      "Iteration 25, loss = 0.13466158\n",
      "Iteration 26, loss = 0.11974544\n",
      "Iteration 27, loss = 0.10703021\n",
      "Iteration 28, loss = 0.09672056\n",
      "Iteration 29, loss = 0.08884209\n",
      "Iteration 30, loss = 0.08129566\n",
      "Iteration 31, loss = 0.07504320\n",
      "Iteration 32, loss = 0.07003069\n",
      "Iteration 33, loss = 0.06534512\n",
      "Iteration 34, loss = 0.06125115\n",
      "Iteration 35, loss = 0.05798583\n",
      "Iteration 36, loss = 0.05447395\n",
      "Iteration 37, loss = 0.05184763\n",
      "Iteration 38, loss = 0.04946463\n",
      "Iteration 39, loss = 0.04698035\n",
      "Iteration 40, loss = 0.04522255\n",
      "Iteration 41, loss = 0.04328647\n",
      "Iteration 42, loss = 0.04138570\n",
      "Iteration 43, loss = 0.03998453\n",
      "Iteration 44, loss = 0.03884047\n",
      "Iteration 45, loss = 0.03732232\n",
      "Iteration 46, loss = 0.03614871\n",
      "Iteration 47, loss = 0.03491343\n",
      "Iteration 48, loss = 0.03394423\n",
      "Iteration 49, loss = 0.03279875\n",
      "Iteration 50, loss = 0.03221363\n",
      "Iteration 51, loss = 0.03150121\n",
      "Iteration 52, loss = 0.03025975\n",
      "Iteration 53, loss = 0.02951211\n",
      "Iteration 54, loss = 0.02891942\n",
      "Iteration 55, loss = 0.02817024\n",
      "Iteration 56, loss = 0.02731192\n",
      "Iteration 57, loss = 0.02700129\n",
      "Iteration 58, loss = 0.02677043\n",
      "Iteration 59, loss = 0.02618234\n",
      "Iteration 60, loss = 0.02565445\n",
      "Iteration 61, loss = 0.02490026\n",
      "Iteration 62, loss = 0.02439533\n",
      "Iteration 63, loss = 0.02420127\n",
      "Iteration 64, loss = 0.02350107\n",
      "Iteration 65, loss = 0.02343627\n",
      "Iteration 66, loss = 0.02257918\n",
      "Iteration 67, loss = 0.02244540\n",
      "Iteration 68, loss = 0.02208175\n",
      "Iteration 69, loss = 0.02206013\n",
      "Iteration 70, loss = 0.02159749\n",
      "Iteration 71, loss = 0.02136099\n",
      "Iteration 72, loss = 0.02069767\n",
      "Iteration 73, loss = 0.02078717\n",
      "Iteration 74, loss = 0.02057329\n",
      "Iteration 75, loss = 0.02022312\n",
      "Iteration 76, loss = 0.02009169\n",
      "Iteration 77, loss = 0.01994291\n",
      "Iteration 78, loss = 0.01962363\n",
      "Iteration 79, loss = 0.01937770\n",
      "Iteration 80, loss = 0.01880630\n",
      "Iteration 81, loss = 0.01860832\n",
      "Iteration 82, loss = 0.01852752\n",
      "Iteration 83, loss = 0.01826216\n",
      "Iteration 84, loss = 0.01800620\n",
      "Iteration 85, loss = 0.01756020\n",
      "Iteration 86, loss = 0.01786123\n",
      "Iteration 87, loss = 0.01736064\n",
      "Iteration 88, loss = 0.01738611\n",
      "Iteration 89, loss = 0.01718054\n",
      "Iteration 90, loss = 0.01727356\n",
      "Iteration 91, loss = 0.01669901\n",
      "Iteration 92, loss = 0.01673159\n",
      "Iteration 93, loss = 0.01634537\n",
      "Iteration 94, loss = 0.01650301\n",
      "Iteration 95, loss = 0.01667980\n",
      "Iteration 96, loss = 0.01624215\n",
      "Iteration 97, loss = 0.01605488\n",
      "Iteration 98, loss = 0.01620233\n",
      "Iteration 99, loss = 0.01601036\n",
      "Iteration 100, loss = 0.01554721\n",
      "Iteration 101, loss = 0.01559166\n",
      "Iteration 102, loss = 0.01536897\n",
      "Iteration 103, loss = 0.01527249\n",
      "Iteration 104, loss = 0.01528374\n",
      "Iteration 105, loss = 0.01513584\n",
      "Iteration 106, loss = 0.01496093\n",
      "Iteration 107, loss = 0.01475537\n",
      "Iteration 108, loss = 0.01480028\n",
      "Iteration 109, loss = 0.01499358\n",
      "Iteration 110, loss = 0.01496360\n",
      "Iteration 111, loss = 0.01481017\n",
      "Iteration 112, loss = 0.01430337\n",
      "Iteration 113, loss = 0.01444178\n",
      "Iteration 114, loss = 0.01449289\n",
      "Iteration 115, loss = 0.01433281\n",
      "Iteration 116, loss = 0.01435823\n",
      "Iteration 117, loss = 0.01439168\n",
      "Iteration 118, loss = 0.01395636\n",
      "Iteration 119, loss = 0.01387386\n",
      "Iteration 120, loss = 0.01409211\n",
      "Iteration 121, loss = 0.01348514\n",
      "Iteration 122, loss = 0.01372226\n",
      "Iteration 123, loss = 0.01365076\n",
      "Iteration 124, loss = 0.01351579\n",
      "Iteration 125, loss = 0.01350623\n",
      "Iteration 126, loss = 0.01345194\n",
      "Iteration 127, loss = 0.01328454\n",
      "Iteration 128, loss = 0.01354526\n",
      "Iteration 129, loss = 0.01312089\n",
      "Iteration 130, loss = 0.01320124\n",
      "Iteration 131, loss = 0.01344045\n",
      "Iteration 132, loss = 0.01343799\n",
      "Iteration 133, loss = 0.01304307\n",
      "Iteration 134, loss = 0.01293097\n",
      "Iteration 135, loss = 0.01296396\n",
      "Iteration 136, loss = 0.01282739\n",
      "Iteration 137, loss = 0.01282153\n",
      "Iteration 138, loss = 0.01269260\n",
      "Iteration 139, loss = 0.01301909\n",
      "Iteration 140, loss = 0.01270667\n",
      "Iteration 141, loss = 0.01286063\n",
      "Iteration 142, loss = 0.01266382\n",
      "Iteration 143, loss = 0.01283574\n",
      "Iteration 144, loss = 0.01276509\n",
      "Iteration 145, loss = 0.01208076\n",
      "Iteration 146, loss = 0.01272533\n",
      "Iteration 147, loss = 0.01224308\n",
      "Iteration 148, loss = 0.01233535\n",
      "Iteration 149, loss = 0.01259235\n",
      "Iteration 150, loss = 0.01257400\n",
      "Iteration 151, loss = 0.01215471\n",
      "Iteration 152, loss = 0.01212200\n",
      "Iteration 153, loss = 0.01202048\n",
      "Iteration 154, loss = 0.01176038\n",
      "Iteration 155, loss = 0.01202248\n",
      "Iteration 156, loss = 0.01227261\n",
      "Iteration 157, loss = 0.01227307\n",
      "Iteration 158, loss = 0.01186107\n",
      "Iteration 159, loss = 0.01196040\n",
      "Iteration 160, loss = 0.01195567\n",
      "Iteration 161, loss = 0.01164985\n",
      "Iteration 162, loss = 0.01169856\n",
      "Iteration 163, loss = 0.01167259\n",
      "Iteration 164, loss = 0.01200058\n",
      "Iteration 165, loss = 0.01198149\n",
      "Iteration 166, loss = 0.01136429\n",
      "Iteration 167, loss = 0.01177512\n",
      "Iteration 168, loss = 0.01147435\n",
      "Iteration 169, loss = 0.01175114\n",
      "Iteration 170, loss = 0.01174089\n",
      "Iteration 171, loss = 0.01177385\n",
      "Iteration 172, loss = 0.01144185\n",
      "Iteration 173, loss = 0.01142287\n",
      "Iteration 174, loss = 0.01134318\n",
      "Iteration 175, loss = 0.01134311\n",
      "Iteration 176, loss = 0.01155474\n",
      "Iteration 177, loss = 0.01107363\n",
      "Iteration 178, loss = 0.01143829\n",
      "Iteration 179, loss = 0.01146581\n",
      "Iteration 180, loss = 0.01122939\n",
      "Iteration 181, loss = 0.01115727\n",
      "Iteration 182, loss = 0.01127382\n",
      "Iteration 183, loss = 0.01125491\n",
      "Iteration 184, loss = 0.01137371\n",
      "Iteration 185, loss = 0.01103419\n",
      "Iteration 186, loss = 0.01102925\n",
      "Iteration 187, loss = 0.01125943\n",
      "Iteration 188, loss = 0.01094408\n",
      "Training loss did not improve more than tol=0.000100 for 10 consecutive epochs. Stopping.\n"
     ]
    },
    {
     "data": {
      "text/plain": "MLPClassifier(batch_size=15, hidden_layer_sizes=64, learning_rate_init=0.007,\n              solver='sgd', verbose=True)",
      "text/html": "<style>#sk-container-id-1 {\n  /* Definition of color scheme common for light and dark mode */\n  --sklearn-color-text: black;\n  --sklearn-color-line: gray;\n  /* Definition of color scheme for unfitted estimators */\n  --sklearn-color-unfitted-level-0: #fff5e6;\n  --sklearn-color-unfitted-level-1: #f6e4d2;\n  --sklearn-color-unfitted-level-2: #ffe0b3;\n  --sklearn-color-unfitted-level-3: chocolate;\n  /* Definition of color scheme for fitted estimators */\n  --sklearn-color-fitted-level-0: #f0f8ff;\n  --sklearn-color-fitted-level-1: #d4ebff;\n  --sklearn-color-fitted-level-2: #b3dbfd;\n  --sklearn-color-fitted-level-3: cornflowerblue;\n\n  /* Specific color for light theme */\n  --sklearn-color-text-on-default-background: var(--sg-text-color, var(--theme-code-foreground, var(--jp-content-font-color1, black)));\n  --sklearn-color-background: var(--sg-background-color, var(--theme-background, var(--jp-layout-color0, white)));\n  --sklearn-color-border-box: var(--sg-text-color, var(--theme-code-foreground, var(--jp-content-font-color1, black)));\n  --sklearn-color-icon: #696969;\n\n  @media (prefers-color-scheme: dark) {\n    /* Redefinition of color scheme for dark theme */\n    --sklearn-color-text-on-default-background: var(--sg-text-color, var(--theme-code-foreground, var(--jp-content-font-color1, white)));\n    --sklearn-color-background: var(--sg-background-color, var(--theme-background, var(--jp-layout-color0, #111)));\n    --sklearn-color-border-box: var(--sg-text-color, var(--theme-code-foreground, var(--jp-content-font-color1, white)));\n    --sklearn-color-icon: #878787;\n  }\n}\n\n#sk-container-id-1 {\n  color: var(--sklearn-color-text);\n}\n\n#sk-container-id-1 pre {\n  padding: 0;\n}\n\n#sk-container-id-1 input.sk-hidden--visually {\n  border: 0;\n  clip: rect(1px 1px 1px 1px);\n  clip: rect(1px, 1px, 1px, 1px);\n  height: 1px;\n  margin: -1px;\n  overflow: hidden;\n  padding: 0;\n  position: absolute;\n  width: 1px;\n}\n\n#sk-container-id-1 div.sk-dashed-wrapped {\n  border: 1px dashed var(--sklearn-color-line);\n  margin: 0 0.4em 0.5em 0.4em;\n  box-sizing: border-box;\n  padding-bottom: 0.4em;\n  background-color: var(--sklearn-color-background);\n}\n\n#sk-container-id-1 div.sk-container {\n  /* jupyter's `normalize.less` sets `[hidden] { display: none; }`\n     but bootstrap.min.css set `[hidden] { display: none !important; }`\n     so we also need the `!important` here to be able to override the\n     default hidden behavior on the sphinx rendered scikit-learn.org.\n     See: https://github.com/scikit-learn/scikit-learn/issues/21755 */\n  display: inline-block !important;\n  position: relative;\n}\n\n#sk-container-id-1 div.sk-text-repr-fallback {\n  display: none;\n}\n\ndiv.sk-parallel-item,\ndiv.sk-serial,\ndiv.sk-item {\n  /* draw centered vertical line to link estimators */\n  background-image: linear-gradient(var(--sklearn-color-text-on-default-background), var(--sklearn-color-text-on-default-background));\n  background-size: 2px 100%;\n  background-repeat: no-repeat;\n  background-position: center center;\n}\n\n/* Parallel-specific style estimator block */\n\n#sk-container-id-1 div.sk-parallel-item::after {\n  content: \"\";\n  width: 100%;\n  border-bottom: 2px solid var(--sklearn-color-text-on-default-background);\n  flex-grow: 1;\n}\n\n#sk-container-id-1 div.sk-parallel {\n  display: flex;\n  align-items: stretch;\n  justify-content: center;\n  background-color: var(--sklearn-color-background);\n  position: relative;\n}\n\n#sk-container-id-1 div.sk-parallel-item {\n  display: flex;\n  flex-direction: column;\n}\n\n#sk-container-id-1 div.sk-parallel-item:first-child::after {\n  align-self: flex-end;\n  width: 50%;\n}\n\n#sk-container-id-1 div.sk-parallel-item:last-child::after {\n  align-self: flex-start;\n  width: 50%;\n}\n\n#sk-container-id-1 div.sk-parallel-item:only-child::after {\n  width: 0;\n}\n\n/* Serial-specific style estimator block */\n\n#sk-container-id-1 div.sk-serial {\n  display: flex;\n  flex-direction: column;\n  align-items: center;\n  background-color: var(--sklearn-color-background);\n  padding-right: 1em;\n  padding-left: 1em;\n}\n\n\n/* Toggleable style: style used for estimator/Pipeline/ColumnTransformer box that is\nclickable and can be expanded/collapsed.\n- Pipeline and ColumnTransformer use this feature and define the default style\n- Estimators will overwrite some part of the style using the `sk-estimator` class\n*/\n\n/* Pipeline and ColumnTransformer style (default) */\n\n#sk-container-id-1 div.sk-toggleable {\n  /* Default theme specific background. It is overwritten whether we have a\n  specific estimator or a Pipeline/ColumnTransformer */\n  background-color: var(--sklearn-color-background);\n}\n\n/* Toggleable label */\n#sk-container-id-1 label.sk-toggleable__label {\n  cursor: pointer;\n  display: block;\n  width: 100%;\n  margin-bottom: 0;\n  padding: 0.5em;\n  box-sizing: border-box;\n  text-align: center;\n}\n\n#sk-container-id-1 label.sk-toggleable__label-arrow:before {\n  /* Arrow on the left of the label */\n  content: \"▸\";\n  float: left;\n  margin-right: 0.25em;\n  color: var(--sklearn-color-icon);\n}\n\n#sk-container-id-1 label.sk-toggleable__label-arrow:hover:before {\n  color: var(--sklearn-color-text);\n}\n\n/* Toggleable content - dropdown */\n\n#sk-container-id-1 div.sk-toggleable__content {\n  max-height: 0;\n  max-width: 0;\n  overflow: hidden;\n  text-align: left;\n  /* unfitted */\n  background-color: var(--sklearn-color-unfitted-level-0);\n}\n\n#sk-container-id-1 div.sk-toggleable__content.fitted {\n  /* fitted */\n  background-color: var(--sklearn-color-fitted-level-0);\n}\n\n#sk-container-id-1 div.sk-toggleable__content pre {\n  margin: 0.2em;\n  border-radius: 0.25em;\n  color: var(--sklearn-color-text);\n  /* unfitted */\n  background-color: var(--sklearn-color-unfitted-level-0);\n}\n\n#sk-container-id-1 div.sk-toggleable__content.fitted pre {\n  /* unfitted */\n  background-color: var(--sklearn-color-fitted-level-0);\n}\n\n#sk-container-id-1 input.sk-toggleable__control:checked~div.sk-toggleable__content {\n  /* Expand drop-down */\n  max-height: 200px;\n  max-width: 100%;\n  overflow: auto;\n}\n\n#sk-container-id-1 input.sk-toggleable__control:checked~label.sk-toggleable__label-arrow:before {\n  content: \"▾\";\n}\n\n/* Pipeline/ColumnTransformer-specific style */\n\n#sk-container-id-1 div.sk-label input.sk-toggleable__control:checked~label.sk-toggleable__label {\n  color: var(--sklearn-color-text);\n  background-color: var(--sklearn-color-unfitted-level-2);\n}\n\n#sk-container-id-1 div.sk-label.fitted input.sk-toggleable__control:checked~label.sk-toggleable__label {\n  background-color: var(--sklearn-color-fitted-level-2);\n}\n\n/* Estimator-specific style */\n\n/* Colorize estimator box */\n#sk-container-id-1 div.sk-estimator input.sk-toggleable__control:checked~label.sk-toggleable__label {\n  /* unfitted */\n  background-color: var(--sklearn-color-unfitted-level-2);\n}\n\n#sk-container-id-1 div.sk-estimator.fitted input.sk-toggleable__control:checked~label.sk-toggleable__label {\n  /* fitted */\n  background-color: var(--sklearn-color-fitted-level-2);\n}\n\n#sk-container-id-1 div.sk-label label.sk-toggleable__label,\n#sk-container-id-1 div.sk-label label {\n  /* The background is the default theme color */\n  color: var(--sklearn-color-text-on-default-background);\n}\n\n/* On hover, darken the color of the background */\n#sk-container-id-1 div.sk-label:hover label.sk-toggleable__label {\n  color: var(--sklearn-color-text);\n  background-color: var(--sklearn-color-unfitted-level-2);\n}\n\n/* Label box, darken color on hover, fitted */\n#sk-container-id-1 div.sk-label.fitted:hover label.sk-toggleable__label.fitted {\n  color: var(--sklearn-color-text);\n  background-color: var(--sklearn-color-fitted-level-2);\n}\n\n/* Estimator label */\n\n#sk-container-id-1 div.sk-label label {\n  font-family: monospace;\n  font-weight: bold;\n  display: inline-block;\n  line-height: 1.2em;\n}\n\n#sk-container-id-1 div.sk-label-container {\n  text-align: center;\n}\n\n/* Estimator-specific */\n#sk-container-id-1 div.sk-estimator {\n  font-family: monospace;\n  border: 1px dotted var(--sklearn-color-border-box);\n  border-radius: 0.25em;\n  box-sizing: border-box;\n  margin-bottom: 0.5em;\n  /* unfitted */\n  background-color: var(--sklearn-color-unfitted-level-0);\n}\n\n#sk-container-id-1 div.sk-estimator.fitted {\n  /* fitted */\n  background-color: var(--sklearn-color-fitted-level-0);\n}\n\n/* on hover */\n#sk-container-id-1 div.sk-estimator:hover {\n  /* unfitted */\n  background-color: var(--sklearn-color-unfitted-level-2);\n}\n\n#sk-container-id-1 div.sk-estimator.fitted:hover {\n  /* fitted */\n  background-color: var(--sklearn-color-fitted-level-2);\n}\n\n/* Specification for estimator info (e.g. \"i\" and \"?\") */\n\n/* Common style for \"i\" and \"?\" */\n\n.sk-estimator-doc-link,\na:link.sk-estimator-doc-link,\na:visited.sk-estimator-doc-link {\n  float: right;\n  font-size: smaller;\n  line-height: 1em;\n  font-family: monospace;\n  background-color: var(--sklearn-color-background);\n  border-radius: 1em;\n  height: 1em;\n  width: 1em;\n  text-decoration: none !important;\n  margin-left: 1ex;\n  /* unfitted */\n  border: var(--sklearn-color-unfitted-level-1) 1pt solid;\n  color: var(--sklearn-color-unfitted-level-1);\n}\n\n.sk-estimator-doc-link.fitted,\na:link.sk-estimator-doc-link.fitted,\na:visited.sk-estimator-doc-link.fitted {\n  /* fitted */\n  border: var(--sklearn-color-fitted-level-1) 1pt solid;\n  color: var(--sklearn-color-fitted-level-1);\n}\n\n/* On hover */\ndiv.sk-estimator:hover .sk-estimator-doc-link:hover,\n.sk-estimator-doc-link:hover,\ndiv.sk-label-container:hover .sk-estimator-doc-link:hover,\n.sk-estimator-doc-link:hover {\n  /* unfitted */\n  background-color: var(--sklearn-color-unfitted-level-3);\n  color: var(--sklearn-color-background);\n  text-decoration: none;\n}\n\ndiv.sk-estimator.fitted:hover .sk-estimator-doc-link.fitted:hover,\n.sk-estimator-doc-link.fitted:hover,\ndiv.sk-label-container:hover .sk-estimator-doc-link.fitted:hover,\n.sk-estimator-doc-link.fitted:hover {\n  /* fitted */\n  background-color: var(--sklearn-color-fitted-level-3);\n  color: var(--sklearn-color-background);\n  text-decoration: none;\n}\n\n/* Span, style for the box shown on hovering the info icon */\n.sk-estimator-doc-link span {\n  display: none;\n  z-index: 9999;\n  position: relative;\n  font-weight: normal;\n  right: .2ex;\n  padding: .5ex;\n  margin: .5ex;\n  width: min-content;\n  min-width: 20ex;\n  max-width: 50ex;\n  color: var(--sklearn-color-text);\n  box-shadow: 2pt 2pt 4pt #999;\n  /* unfitted */\n  background: var(--sklearn-color-unfitted-level-0);\n  border: .5pt solid var(--sklearn-color-unfitted-level-3);\n}\n\n.sk-estimator-doc-link.fitted span {\n  /* fitted */\n  background: var(--sklearn-color-fitted-level-0);\n  border: var(--sklearn-color-fitted-level-3);\n}\n\n.sk-estimator-doc-link:hover span {\n  display: block;\n}\n\n/* \"?\"-specific style due to the `<a>` HTML tag */\n\n#sk-container-id-1 a.estimator_doc_link {\n  float: right;\n  font-size: 1rem;\n  line-height: 1em;\n  font-family: monospace;\n  background-color: var(--sklearn-color-background);\n  border-radius: 1rem;\n  height: 1rem;\n  width: 1rem;\n  text-decoration: none;\n  /* unfitted */\n  color: var(--sklearn-color-unfitted-level-1);\n  border: var(--sklearn-color-unfitted-level-1) 1pt solid;\n}\n\n#sk-container-id-1 a.estimator_doc_link.fitted {\n  /* fitted */\n  border: var(--sklearn-color-fitted-level-1) 1pt solid;\n  color: var(--sklearn-color-fitted-level-1);\n}\n\n/* On hover */\n#sk-container-id-1 a.estimator_doc_link:hover {\n  /* unfitted */\n  background-color: var(--sklearn-color-unfitted-level-3);\n  color: var(--sklearn-color-background);\n  text-decoration: none;\n}\n\n#sk-container-id-1 a.estimator_doc_link.fitted:hover {\n  /* fitted */\n  background-color: var(--sklearn-color-fitted-level-3);\n}\n</style><div id=\"sk-container-id-1\" class=\"sk-top-container\"><div class=\"sk-text-repr-fallback\"><pre>MLPClassifier(batch_size=15, hidden_layer_sizes=64, learning_rate_init=0.007,\n              solver=&#x27;sgd&#x27;, verbose=True)</pre><b>In a Jupyter environment, please rerun this cell to show the HTML representation or trust the notebook. <br />On GitHub, the HTML representation is unable to render, please try loading this page with nbviewer.org.</b></div><div class=\"sk-container\" hidden><div class=\"sk-item\"><div class=\"sk-estimator fitted sk-toggleable\"><input class=\"sk-toggleable__control sk-hidden--visually\" id=\"sk-estimator-id-1\" type=\"checkbox\" checked><label for=\"sk-estimator-id-1\" class=\"sk-toggleable__label fitted sk-toggleable__label-arrow fitted\">&nbsp;&nbsp;MLPClassifier<a class=\"sk-estimator-doc-link fitted\" rel=\"noreferrer\" target=\"_blank\" href=\"https://scikit-learn.org/1.4/modules/generated/sklearn.neural_network.MLPClassifier.html\">?<span>Documentation for MLPClassifier</span></a><span class=\"sk-estimator-doc-link fitted\">i<span>Fitted</span></span></label><div class=\"sk-toggleable__content fitted\"><pre>MLPClassifier(batch_size=15, hidden_layer_sizes=64, learning_rate_init=0.007,\n              solver=&#x27;sgd&#x27;, verbose=True)</pre></div> </div></div></div></div>"
     },
     "execution_count": 10,
     "metadata": {},
     "output_type": "execute_result"
    }
   ],
   "source": [
    "# Ini untuk nge define MLPnya dan Training\n",
    "from sklearn.neural_network import MLPClassifier\n",
    "\n",
    "mlp = MLPClassifier(hidden_layer_sizes=(64), activation='relu', solver='sgd', batch_size=15, verbose=True ,learning_rate_init=0.007) #relu ini hanya untuk hidden layer\n",
    "mlp.out_activation = 'softmax' # untuk mendefinisikan bahwa di layer output kita mau pake softmax\n",
    "\n",
    "mlp.fit(teks_train, label_train)"
   ]
  },
  {
   "cell_type": "code",
   "execution_count": 11,
   "metadata": {
    "ExecuteTime": {
     "end_time": "2024-03-31T05:33:29.588800800Z",
     "start_time": "2024-03-31T05:33:28.369272500Z"
    }
   },
   "outputs": [
    {
     "name": "stdout",
     "output_type": "stream",
     "text": [
      "Testing accuracy : 0.8564814814814815\n"
     ]
    }
   ],
   "source": [
    "#Pengujian\n",
    "from sklearn.metrics import accuracy_score, classification_report\n",
    "from sklearn.metrics import confusion_matrix, ConfusionMatrixDisplay\n",
    "import matplotlib.pyplot as plt\n",
    "# import seaborn as sn\n",
    "\n",
    "\n",
    "predict_test = mlp.predict(teks_test)\n",
    "acc_test = accuracy_score(label_test, predict_test)\n",
    "print(f\"Testing accuracy : {acc_test}\")\n"
   ]
  },
  {
   "cell_type": "code",
   "outputs": [],
   "source": [
    "def calculate_metrics_per_class(conf_mat):\n",
    "    num_classes = len(conf_mat)\n",
    "    metrics_per_class = {}\n",
    "\n",
    "    for i in range(num_classes):\n",
    "        true_positives = conf_mat[i, i]\n",
    "        false_positives = conf_mat[:, i].sum() - true_positives\n",
    "        false_negatives = conf_mat[i, :].sum() - true_positives\n",
    "\n",
    "        precision = true_positives / (true_positives + false_positives)\n",
    "        recall = true_positives / (true_positives + false_negatives)\n",
    "        f1_score = 2 * (precision * recall) / (precision + recall)\n",
    "\n",
    "        metrics_per_class[i] = {'Precision': precision, 'Recall': recall, 'F1-Score': f1_score}\n",
    "\n",
    "    return metrics_per_class"
   ],
   "metadata": {
    "collapsed": false,
    "ExecuteTime": {
     "end_time": "2024-03-31T05:33:29.596773100Z",
     "start_time": "2024-03-31T05:33:29.585787300Z"
    }
   },
   "execution_count": 12
  },
  {
   "cell_type": "code",
   "outputs": [
    {
     "data": {
      "text/plain": "<Figure size 640x480 with 2 Axes>",
      "image/png": "[encoded data removed]"
     },
     "metadata": {},
     "output_type": "display_data"
    },
    {
     "data": {
      "text/plain": "<Figure size 1500x1500 with 2 Axes>",
      "image/png": "[encoded data removed]"
     },
     "metadata": {},
     "output_type": "display_data"
    }
   ],
   "source": [
    "\n",
    "\n",
    "# print(len(mlp.coefs_[1][0]))\n",
    "# mlp.coefs_[1][63]\n",
    "\n",
    "\n",
    "# cm = confusion_matrix(label_test,predict_test)\n",
    "# sn.heatmap(cm, annot=True, cmap='Blues')\n",
    "\n",
    "\n",
    "disp = ConfusionMatrixDisplay.from_predictions(label_test, predict_test)\n",
    "plt.figure(figsize=(15,15))\n",
    "plt.plot(disp.confusion_matrix)\n",
    "plt.xlabel('Sumbu X')\n",
    "plt.ylabel('Sumbu Y')\n",
    "plt.title('Contoh Plot')\n",
    "plt.xlim(0, 50)\n",
    "plt.ylim(0, 2500)\n",
    "\n",
    "# Tambahkan sumbu sekunder untuk zoom in\n",
    "plt.axes([0.6, 0.6, 0.25, 0.25])  # koordinat (posisi) dan ukuran sumbu sekunder\n",
    "plt.plot(disp.confusion_matrix)\n",
    "plt.xlabel('X (Zoom In)')\n",
    "plt.ylabel('Y (Zoom In)')\n",
    "plt.title('Zoom In')\n",
    "\n",
    "# Batasi rentang sumbu x dan y pada plot zoom in\n",
    "plt.xlim(20, 30)\n",
    "plt.ylim(400, 900)\n",
    "plt.show()\n"
   ],
   "metadata": {
    "ExecuteTime": {
     "end_time": "2024-03-31T06:01:14.733617700Z",
     "start_time": "2024-03-31T05:59:47.596868400Z"
    }
   },
   "execution_count": 24
  },
  {
   "cell_type": "code",
   "outputs": [],
   "source": [
    "# metrics_per_class = calculate_metrics_per_class(cm)\n",
    "# for class_id, metrics in metrics_per_class.items():\n",
    "#     print(f\"Class {class_id}: Precision={metrics['Precision']}, Recall={metrics['Recall']}, F1-Score={metrics['F1-Score']}\")"
   ],
   "metadata": {
    "collapsed": false,
    "ExecuteTime": {
     "end_time": "2024-03-31T05:34:56.332871900Z",
     "start_time": "2024-03-31T05:34:56.323800Z"
    }
   },
   "execution_count": 14
  },
  {
   "cell_type": "code",
   "execution_count": 15,
   "metadata": {
    "ExecuteTime": {
     "end_time": "2024-03-31T05:34:56.534815600Z",
     "start_time": "2024-03-31T05:34:56.333870600Z"
    }
   },
   "outputs": [
    {
     "name": "stdout",
     "output_type": "stream",
     "text": [
      "                    precision    recall  f1-score   support\n",
      "\n",
      "             abasa       0.33      1.00      0.50         1\n",
      "       abasa_surah       1.00      1.00      1.00         2\n",
      "      abasa_tafsir       0.00      0.00      0.00         2\n",
      "            adiyat       0.00      0.00      0.00         0\n",
      "      adiyat_surah       1.00      0.67      0.80         3\n",
      "     adiyat_tafsir       0.00      0.00      0.00         0\n",
      "             ahqaf       1.00      1.00      1.00         2\n",
      "       ahqaf_surah       1.00      1.00      1.00         2\n",
      "      ahqaf_tafsir       1.00      1.00      1.00         1\n",
      "             ahzab       0.33      1.00      0.50         1\n",
      "       ahzab_surah       1.00      0.67      0.80         3\n",
      "      ahzab_tafsir       1.00      1.00      1.00         1\n",
      "               ala       0.00      0.00      0.00         0\n",
      "         ala_surah       1.00      1.00      1.00         2\n",
      "        ala_tafsir       1.00      1.00      1.00         1\n",
      "              alaq       0.00      0.00      0.00         1\n",
      "        alaq_surah       1.00      1.00      1.00         1\n",
      "       alaq_tafsir       0.00      0.00      0.00         0\n",
      "              anam       0.67      1.00      0.80         2\n",
      "        anam_surah       1.00      0.67      0.80         3\n",
      "       anam_tafsir       1.00      1.00      1.00         1\n",
      "             anbya       1.00      1.00      1.00         2\n",
      "       anbya_surah       1.00      1.00      1.00         2\n",
      "      anbya_tafsir       0.00      0.00      0.00         0\n",
      "             anfal       1.00      1.00      1.00         2\n",
      "       anfal_surah       0.00      0.00      0.00         0\n",
      "      anfal_tafsir       1.00      1.00      1.00         1\n",
      "           ankabut       0.00      0.00      0.00         0\n",
      "     ankabut_surah       1.00      1.00      1.00         4\n",
      "    ankabut_tafsir       1.00      1.00      1.00         2\n",
      "              araf       1.00      1.00      1.00         4\n",
      "        araf_surah       1.00      1.00      1.00         2\n",
      "       araf_tafsir       1.00      1.00      1.00         1\n",
      "               asr       1.00      1.00      1.00         4\n",
      "         asr_surah       0.00      0.00      0.00         0\n",
      "        asr_tafsir       1.00      1.00      1.00         1\n",
      "             balad       1.00      1.00      1.00         3\n",
      "       balad_surah       1.00      1.00      1.00         1\n",
      "      balad_tafsir       1.00      0.75      0.86         4\n",
      "           baqarah       0.67      1.00      0.80         2\n",
      "     baqarah_surah       1.00      1.00      1.00         1\n",
      "    baqarah_tafsir       1.00      1.00      1.00         1\n",
      "          bayyinah       0.00      0.00      0.00         1\n",
      "    bayyinah_surah       1.00      1.00      1.00         1\n",
      "   bayyinah_tafsir       1.00      0.67      0.80         3\n",
      "             buruj       0.00      0.00      0.00         0\n",
      "       buruj_surah       1.00      1.00      1.00         2\n",
      "      buruj_tafsir       1.00      1.00      1.00         1\n",
      "          dhariyat       1.00      1.00      1.00         1\n",
      "    dhariyat_surah       1.00      1.00      1.00         2\n",
      "   dhariyat_tafsir       1.00      1.00      1.00         1\n",
      "             duhaa       0.00      0.00      0.00         0\n",
      "       duhaa_surah       1.00      1.00      1.00         2\n",
      "      duhaa_tafsir       1.00      1.00      1.00         1\n",
      "            dukhan       1.00      1.00      1.00         1\n",
      "      dukhan_surah       0.00      0.00      0.00         0\n",
      "     dukhan_tafsir       0.00      0.00      0.00         0\n",
      "              fajr       0.00      0.00      0.00         0\n",
      "        fajr_surah       1.00      0.50      0.67         2\n",
      "       fajr_tafsir       1.00      1.00      1.00         1\n",
      "             falaq       1.00      1.00      1.00         2\n",
      "       falaq_surah       0.00      0.00      0.00         0\n",
      "      falaq_tafsir       1.00      1.00      1.00         1\n",
      "              fath       0.00      0.00      0.00         0\n",
      "        fath_surah       1.00      1.00      1.00         1\n",
      "       fath_tafsir       1.00      1.00      1.00         3\n",
      "           fatihah       0.00      0.00      0.00         0\n",
      "     fatihah_surah       1.00      0.50      0.67         2\n",
      "    fatihah_tafsir       1.00      1.00      1.00         1\n",
      "             fatir       0.50      0.50      0.50         2\n",
      "       fatir_surah       0.00      0.00      0.00         1\n",
      "      fatir_tafsir       1.00      1.00      1.00         2\n",
      "               fil       0.50      1.00      0.67         1\n",
      "         fil_surah       1.00      0.50      0.67         2\n",
      "        fil_tafsir       1.00      1.00      1.00         1\n",
      "            furqan       0.00      0.00      0.00         0\n",
      "      furqan_surah       1.00      1.00      1.00         1\n",
      "     furqan_tafsir       0.00      0.00      0.00         0\n",
      "          fussilat       0.50      1.00      0.67         1\n",
      "    fussilat_surah       1.00      1.00      1.00         1\n",
      "   fussilat_tafsir       1.00      1.00      1.00         1\n",
      "            ghafir       1.00      1.00      1.00         1\n",
      "      ghafir_surah       1.00      1.00      1.00         1\n",
      "     ghafir_tafsir       0.50      0.50      0.50         2\n",
      "         ghashiyah       0.50      1.00      0.67         1\n",
      "   ghashiyah_surah       1.00      1.00      1.00         2\n",
      "  ghashiyah_tafsir       0.00      0.00      0.00         0\n",
      "             hadid       1.00      1.00      1.00         1\n",
      "       hadid_surah       1.00      1.00      1.00         2\n",
      "      hadid_tafsir       1.00      1.00      1.00         1\n",
      "               haj       1.00      1.00      1.00         2\n",
      "         haj_surah       1.00      1.00      1.00         1\n",
      "        haj_tafsir       0.00      0.00      0.00         0\n",
      "            haqqah       0.00      0.00      0.00         1\n",
      "      haqqah_surah       1.00      1.00      1.00         2\n",
      "     haqqah_tafsir       0.50      1.00      0.67         1\n",
      "             hashr       0.67      1.00      0.80         2\n",
      "       hashr_surah       1.00      1.00      1.00         1\n",
      "      hashr_tafsir       0.50      1.00      0.67         1\n",
      "              hijr       0.50      0.50      0.50         2\n",
      "        hijr_surah       1.00      1.00      1.00         3\n",
      "       hijr_tafsir       0.00      0.00      0.00         0\n",
      "               hud       1.00      1.00      1.00         2\n",
      "         hud_surah       1.00      1.00      1.00         1\n",
      "        hud_tafsir       1.00      1.00      1.00         1\n",
      "           hujurat       1.00      1.00      1.00         1\n",
      "     hujurat_surah       1.00      1.00      1.00         1\n",
      "    hujurat_tafsir       0.00      0.00      0.00         0\n",
      "           humazah       0.50      1.00      0.67         1\n",
      "     humazah_surah       0.00      0.00      0.00         0\n",
      "    humazah_tafsir       1.00      1.00      1.00         1\n",
      "           ibrahim       0.00      0.00      0.00         0\n",
      "     ibrahim_surah       0.00      0.00      0.00         0\n",
      "    ibrahim_tafsir       1.00      1.00      1.00         1\n",
      "            ikhlas       0.50      1.00      0.67         1\n",
      "      ikhlas_surah       1.00      1.00      1.00         1\n",
      "     ikhlas_tafsir       0.00      0.00      0.00         0\n",
      "             imran       0.00      0.00      0.00         0\n",
      "       imran_surah       1.00      1.00      1.00         4\n",
      "      imran_tafsir       1.00      1.00      1.00         2\n",
      "           infitar       0.00      0.00      0.00         0\n",
      "     infitar_surah       1.00      1.00      1.00         3\n",
      "    infitar_tafsir       1.00      1.00      1.00         2\n",
      "             insan       0.50      1.00      0.67         2\n",
      "       insan_surah       1.00      0.50      0.67         2\n",
      "      insan_tafsir       0.00      0.00      0.00         2\n",
      "          inshiqaq       0.00      0.00      0.00         2\n",
      "    inshiqaq_surah       1.00      1.00      1.00         1\n",
      "   inshiqaq_tafsir       0.67      1.00      0.80         2\n",
      "          inshirah       0.00      0.00      0.00         1\n",
      "    inshirah_surah       0.00      0.00      0.00         0\n",
      "   inshirah_tafsir       1.00      1.00      1.00         1\n",
      "              isra       0.00      0.00      0.00         0\n",
      "        isra_surah       1.00      1.00      1.00         3\n",
      "       isra_tafsir       1.00      1.00      1.00         1\n",
      "          jathiyah       0.00      0.00      0.00         0\n",
      "    jathiyah_surah       1.00      1.00      1.00         1\n",
      "   jathiyah_tafsir       1.00      1.00      1.00         3\n",
      "              jinn       1.00      1.00      1.00         1\n",
      "        jinn_surah       1.00      1.00      1.00         1\n",
      "       jinn_tafsir       0.00      0.00      0.00         0\n",
      "            jumuah       1.00      0.50      0.67         2\n",
      "      jumuah_surah       1.00      1.00      1.00         3\n",
      "     jumuah_tafsir       0.00      0.00      0.00         0\n",
      "           kafirun       1.00      1.00      1.00         1\n",
      "     kafirun_surah       1.00      1.00      1.00         2\n",
      "    kafirun_tafsir       1.00      1.00      1.00         1\n",
      "              kahf       1.00      0.50      0.67         2\n",
      "        kahf_surah       1.00      1.00      1.00         3\n",
      "       kahf_tafsir       0.00      0.00      0.00         0\n",
      "           kawthar       0.00      0.00      0.00         0\n",
      "     kawthar_surah       0.00      0.00      0.00         2\n",
      "    kawthar_tafsir       1.00      0.67      0.80         3\n",
      "             lahab       0.00      0.00      0.00         0\n",
      "       lahab_surah       1.00      1.00      1.00         2\n",
      "      lahab_tafsir       0.00      0.00      0.00         0\n",
      "              layl       0.50      1.00      0.67         1\n",
      "        layl_surah       0.00      0.00      0.00         1\n",
      "       layl_tafsir       1.00      1.00      1.00         3\n",
      "            luqman       1.00      1.00      1.00         1\n",
      "      luqman_surah       1.00      1.00      1.00         1\n",
      "     luqman_tafsir       1.00      1.00      1.00         1\n",
      "            maarij       1.00      1.00      1.00         1\n",
      "      maarij_surah       0.00      0.00      0.00         0\n",
      "     maarij_tafsir       1.00      1.00      1.00         1\n",
      "            maidah       0.00      0.00      0.00         2\n",
      "      maidah_surah       0.33      1.00      0.50         1\n",
      "     maidah_tafsir       1.00      0.33      0.50         3\n",
      "            maryam       0.00      0.00      0.00         1\n",
      "      maryam_surah       0.00      0.00      0.00         0\n",
      "     maryam_tafsir       0.00      0.00      0.00         0\n",
      "              maun       0.50      1.00      0.67         1\n",
      "        maun_surah       1.00      0.67      0.80         3\n",
      "       maun_tafsir       0.00      0.00      0.00         0\n",
      "       muddaththir       0.83      1.00      0.91         5\n",
      " muddaththir_surah       1.00      1.00      1.00         1\n",
      "muddaththir_tafsir       0.33      0.50      0.40         2\n",
      "          muhammad       0.00      0.00      0.00         0\n",
      "    muhammad_surah       1.00      1.00      1.00         3\n",
      "   muhammad_tafsir       0.00      0.00      0.00         0\n",
      "          mujadila       1.00      1.00      1.00         1\n",
      "    mujadila_surah       1.00      1.00      1.00         1\n",
      "   mujadila_tafsir       1.00      1.00      1.00         2\n",
      "              mulk       1.00      1.00      1.00         1\n",
      "        mulk_surah       0.50      1.00      0.67         1\n",
      "       mulk_tafsir       0.00      0.00      0.00         0\n",
      "           muminun       1.00      1.00      1.00         2\n",
      "     muminun_surah       1.00      1.00      1.00         3\n",
      "    muminun_tafsir       1.00      1.00      1.00         1\n",
      "        mumtahanah       0.00      0.00      0.00         0\n",
      "  mumtahanah_surah       1.00      1.00      1.00         3\n",
      " mumtahanah_tafsir       1.00      1.00      1.00         2\n",
      "         munafiqun       0.00      0.00      0.00         0\n",
      "   munafiqun_surah       1.00      0.67      0.80         3\n",
      "  munafiqun_tafsir       1.00      1.00      1.00         2\n",
      "          mursalat       0.00      0.00      0.00         0\n",
      "    mursalat_surah       1.00      1.00      1.00         2\n",
      "   mursalat_tafsir       1.00      1.00      1.00         2\n",
      "        mutaffifin       0.00      0.00      0.00         0\n",
      "  mutaffifin_surah       1.00      1.00      1.00         1\n",
      " mutaffifin_tafsir       1.00      1.00      1.00         1\n",
      "         muzzammil       1.00      0.67      0.80         3\n",
      "   muzzammil_surah       0.00      0.00      0.00         0\n",
      "  muzzammil_tafsir       1.00      0.50      0.67         2\n",
      "              naba       0.00      0.00      0.00         0\n",
      "        naba_surah       1.00      1.00      1.00         1\n",
      "       naba_tafsir       1.00      1.00      1.00         2\n",
      "              nahl       1.00      0.67      0.80         3\n",
      "        nahl_surah       1.00      1.00      1.00         2\n",
      "       nahl_tafsir       1.00      1.00      1.00         2\n",
      "              najm       0.50      1.00      0.67         1\n",
      "        najm_surah       1.00      0.50      0.67         2\n",
      "       najm_tafsir       1.00      1.00      1.00         1\n",
      "              naml       0.00      0.00      0.00         1\n",
      "        naml_surah       1.00      1.00      1.00         2\n",
      "       naml_tafsir       1.00      1.00      1.00         2\n",
      "               nas       1.00      1.00      1.00         2\n",
      "         nas_surah       1.00      1.00      1.00         2\n",
      "        nas_tafsir       1.00      1.00      1.00         2\n",
      "              nasr       1.00      1.00      1.00         1\n",
      "        nasr_surah       1.00      1.00      1.00         2\n",
      "       nasr_tafsir       0.00      0.00      0.00         0\n",
      "            naziat       0.67      0.67      0.67         3\n",
      "      naziat_surah       1.00      0.67      0.80         3\n",
      "     naziat_tafsir       0.00      0.00      0.00         0\n",
      "              nisa       1.00      1.00      1.00         1\n",
      "        nisa_surah       1.00      1.00      1.00         2\n",
      "       nisa_tafsir       1.00      1.00      1.00         1\n",
      "               nuh       0.00      0.00      0.00         0\n",
      "         nuh_surah       1.00      1.00      1.00         1\n",
      "        nuh_tafsir       0.00      0.00      0.00         0\n",
      "               nur       1.00      1.00      1.00         1\n",
      "         nur_surah       1.00      1.00      1.00         4\n",
      "        nur_tafsir       1.00      1.00      1.00         2\n",
      "              qadr       1.00      1.00      1.00         1\n",
      "        qadr_surah       1.00      1.00      1.00         1\n",
      "       qadr_tafsir       0.00      0.00      0.00         0\n",
      "               qaf       1.00      1.00      1.00         2\n",
      "         qaf_surah       1.00      1.00      1.00         2\n",
      "        qaf_tafsir       0.00      0.00      0.00         0\n",
      "             qalam       0.00      0.00      0.00         1\n",
      "       qalam_surah       1.00      0.67      0.80         3\n",
      "      qalam_tafsir       1.00      1.00      1.00         1\n",
      "             qamar       0.00      0.00      0.00         0\n",
      "       qamar_surah       1.00      0.67      0.80         3\n",
      "      qamar_tafsir       0.67      1.00      0.80         2\n",
      "            qariah       0.00      0.00      0.00         0\n",
      "      qariah_surah       1.00      1.00      1.00         1\n",
      "     qariah_tafsir       0.00      0.00      0.00         0\n",
      "             qasas       0.50      0.50      0.50         2\n",
      "       qasas_surah       1.00      0.50      0.67         2\n",
      "      qasas_tafsir       0.00      0.00      0.00         1\n",
      "           qiyamah       0.50      1.00      0.67         1\n",
      "     qiyamah_surah       1.00      0.50      0.67         2\n",
      "    qiyamah_tafsir       1.00      1.00      1.00         1\n",
      "           quraysh       1.00      1.00      1.00         1\n",
      "     quraysh_surah       1.00      1.00      1.00         1\n",
      "    quraysh_tafsir       1.00      1.00      1.00         1\n",
      "               rad       0.00      0.00      0.00         0\n",
      "         rad_surah       0.00      0.00      0.00         1\n",
      "        rad_tafsir       1.00      1.00      1.00         1\n",
      "            rahman       0.00      0.00      0.00         1\n",
      "      rahman_surah       1.00      0.50      0.67         2\n",
      "     rahman_tafsir       0.00      0.00      0.00         0\n",
      "               rum       1.00      1.00      1.00         2\n",
      "         rum_surah       1.00      1.00      1.00         2\n",
      "        rum_tafsir       0.00      0.00      0.00         0\n",
      "              saba       1.00      1.00      1.00         1\n",
      "        saba_surah       0.00      0.00      0.00         0\n",
      "       saba_tafsir       0.00      0.00      0.00         0\n",
      "               sad       0.00      0.00      0.00         0\n",
      "         sad_surah       0.00      0.00      0.00         0\n",
      "        sad_tafsir       1.00      1.00      1.00         1\n",
      "               saf       1.00      1.00      1.00         2\n",
      "         saf_surah       1.00      0.50      0.67         2\n",
      "        saf_tafsir       0.00      0.00      0.00         0\n",
      "            saffat       0.50      0.50      0.50         2\n",
      "      saffat_surah       1.00      1.00      1.00         2\n",
      "     saffat_tafsir       0.00      0.00      0.00         1\n",
      "            sajdah       1.00      1.00      1.00         1\n",
      "      sajdah_surah       1.00      1.00      1.00         1\n",
      "     sajdah_tafsir       0.00      0.00      0.00         0\n",
      "             salam       0.00      0.00      0.00         0\n",
      "             shams       0.25      1.00      0.40         1\n",
      "       shams_surah       1.00      0.50      0.67         2\n",
      "      shams_tafsir       1.00      1.00      1.00         1\n",
      "            shuara       0.50      0.50      0.50         2\n",
      "      shuara_surah       1.00      1.00      1.00         1\n",
      "     shuara_tafsir       1.00      1.00      1.00         1\n",
      "            shuraa       0.00      0.00      0.00         0\n",
      "      shuraa_surah       1.00      1.00      1.00         1\n",
      "     shuraa_tafsir       1.00      0.75      0.86         4\n",
      "          taghabun       1.00      1.00      1.00         2\n",
      "    taghabun_surah       1.00      1.00      1.00         3\n",
      "   taghabun_tafsir       1.00      1.00      1.00         1\n",
      "              taha       1.00      1.00      1.00         2\n",
      "        taha_surah       0.00      0.00      0.00         0\n",
      "       taha_tafsir       1.00      1.00      1.00         1\n",
      "            tahrim       0.00      0.00      0.00         0\n",
      "      tahrim_surah       1.00      1.00      1.00         2\n",
      "     tahrim_tafsir       1.00      1.00      1.00         1\n",
      "          takathur       1.00      1.00      1.00         3\n",
      "    takathur_surah       1.00      1.00      1.00         1\n",
      "   takathur_tafsir       0.00      0.00      0.00         0\n",
      "            takwir       1.00      1.00      1.00         1\n",
      "      takwir_surah       1.00      1.00      1.00         3\n",
      "     takwir_tafsir       0.00      0.00      0.00         0\n",
      "             talaq       1.00      1.00      1.00         1\n",
      "       talaq_surah       0.00      0.00      0.00         0\n",
      "      talaq_tafsir       0.00      0.00      0.00         0\n",
      "             tariq       0.50      1.00      0.67         1\n",
      "       tariq_surah       1.00      0.67      0.80         3\n",
      "      tariq_tafsir       0.00      0.00      0.00         0\n",
      "            tawbah       0.50      1.00      0.67         2\n",
      "      tawbah_surah       1.00      1.00      1.00         1\n",
      "     tawbah_tafsir       0.00      0.00      0.00         0\n",
      "               tin       1.00      1.00      1.00         1\n",
      "         tin_surah       1.00      1.00      1.00         1\n",
      "        tin_tafsir       0.00      0.00      0.00         0\n",
      "               tur       1.00      1.00      1.00         2\n",
      "         tur_surah       1.00      1.00      1.00         2\n",
      "        tur_tafsir       1.00      1.00      1.00         2\n",
      "            waqiah       1.00      1.00      1.00         1\n",
      "      waqiah_surah       1.00      1.00      1.00         2\n",
      "     waqiah_tafsir       0.00      0.00      0.00         0\n",
      "             yasin       0.00      0.00      0.00         0\n",
      "       yasin_surah       1.00      1.00      1.00         1\n",
      "      yasin_tafsir       0.00      0.00      0.00         0\n",
      "             yunus       1.00      1.00      1.00         1\n",
      "       yunus_surah       1.00      1.00      1.00         2\n",
      "      yunus_tafsir       0.00      0.00      0.00         0\n",
      "             yusuf       0.00      0.00      0.00         0\n",
      "       yusuf_surah       0.00      0.00      0.00         0\n",
      "      yusuf_tafsir       1.00      1.00      1.00         1\n",
      "          zalzalah       0.00      0.00      0.00         1\n",
      "    zalzalah_surah       1.00      1.00      1.00         1\n",
      "   zalzalah_tafsir       1.00      1.00      1.00         3\n",
      "           zukhruf       1.00      1.00      1.00         1\n",
      "     zukhruf_surah       1.00      1.00      1.00         1\n",
      "    zukhruf_tafsir       1.00      1.00      1.00         2\n",
      "             zumar       1.00      1.00      1.00         1\n",
      "       zumar_surah       1.00      1.00      1.00         2\n",
      "      zumar_tafsir       0.00      0.00      0.00         0\n",
      "\n",
      "         micro avg       0.86      0.86      0.86       432\n",
      "         macro avg       0.65      0.65      0.64       432\n",
      "      weighted avg       0.89      0.86      0.86       432\n"
     ]
    },
    {
     "name": "stderr",
     "output_type": "stream",
     "text": [
      "E:\\Development\\Python\\InQuran-chatbot-alquran\\.venv\\Lib\\site-packages\\sklearn\\metrics\\_classification.py:1509: UndefinedMetricWarning: Precision is ill-defined and being set to 0.0 in labels with no predicted samples. Use `zero_division` parameter to control this behavior.\n",
      "  _warn_prf(average, modifier, f\"{metric.capitalize()} is\", len(result))\n",
      "E:\\Development\\Python\\InQuran-chatbot-alquran\\.venv\\Lib\\site-packages\\sklearn\\metrics\\_classification.py:1509: UndefinedMetricWarning: Recall is ill-defined and being set to 0.0 in labels with no true samples. Use `zero_division` parameter to control this behavior.\n",
      "  _warn_prf(average, modifier, f\"{metric.capitalize()} is\", len(result))\n",
      "E:\\Development\\Python\\InQuran-chatbot-alquran\\.venv\\Lib\\site-packages\\sklearn\\metrics\\_classification.py:1509: UndefinedMetricWarning: F-score is ill-defined and being set to 0.0 in labels with no true nor predicted samples. Use `zero_division` parameter to control this behavior.\n",
      "  _warn_prf(average, modifier, f\"{metric.capitalize()} is\", len(result))\n",
      "E:\\Development\\Python\\InQuran-chatbot-alquran\\.venv\\Lib\\site-packages\\sklearn\\metrics\\_classification.py:1509: UndefinedMetricWarning: Precision is ill-defined and being set to 0.0 in labels with no predicted samples. Use `zero_division` parameter to control this behavior.\n",
      "  _warn_prf(average, modifier, f\"{metric.capitalize()} is\", len(result))\n",
      "E:\\Development\\Python\\InQuran-chatbot-alquran\\.venv\\Lib\\site-packages\\sklearn\\metrics\\_classification.py:1509: UndefinedMetricWarning: Recall is ill-defined and being set to 0.0 in labels with no true samples. Use `zero_division` parameter to control this behavior.\n",
      "  _warn_prf(average, modifier, f\"{metric.capitalize()} is\", len(result))\n",
      "E:\\Development\\Python\\InQuran-chatbot-alquran\\.venv\\Lib\\site-packages\\sklearn\\metrics\\_classification.py:1509: UndefinedMetricWarning: F-score is ill-defined and being set to 0.0 in labels with no true nor predicted samples. Use `zero_division` parameter to control this behavior.\n",
      "  _warn_prf(average, modifier, f\"{metric.capitalize()} is\", len(result))\n",
      "E:\\Development\\Python\\InQuran-chatbot-alquran\\.venv\\Lib\\site-packages\\sklearn\\metrics\\_classification.py:1509: UndefinedMetricWarning: Precision is ill-defined and being set to 0.0 in labels with no predicted samples. Use `zero_division` parameter to control this behavior.\n",
      "  _warn_prf(average, modifier, f\"{metric.capitalize()} is\", len(result))\n",
      "E:\\Development\\Python\\InQuran-chatbot-alquran\\.venv\\Lib\\site-packages\\sklearn\\metrics\\_classification.py:1509: UndefinedMetricWarning: Recall is ill-defined and being set to 0.0 in labels with no true samples. Use `zero_division` parameter to control this behavior.\n",
      "  _warn_prf(average, modifier, f\"{metric.capitalize()} is\", len(result))\n",
      "E:\\Development\\Python\\InQuran-chatbot-alquran\\.venv\\Lib\\site-packages\\sklearn\\metrics\\_classification.py:1509: UndefinedMetricWarning: F-score is ill-defined and being set to 0.0 in labels with no true nor predicted samples. Use `zero_division` parameter to control this behavior.\n",
      "  _warn_prf(average, modifier, f\"{metric.capitalize()} is\", len(result))\n"
     ]
    }
   ],
   "source": [
    "import numpy as np\n",
    "\n",
    "cr = classification_report(label_test, predict_test, labels=np.arange(0,len(le.classes_),1), target_names=le.classes_)\n",
    "\n",
    "print(cr)"
   ]
  },
  {
   "cell_type": "code",
   "execution_count": 16,
   "metadata": {
    "ExecuteTime": {
     "end_time": "2024-03-31T05:34:56.535815500Z",
     "start_time": "2024-03-31T05:34:56.383810300Z"
    }
   },
   "outputs": [],
   "source": [
    "# Nge save model MLPnya\n",
    "import pickle\n",
    "\n",
    "# filename = \"model_mlp.pickle\"\n",
    "\n",
    "# pickle.dump(mlp, open(filename, \"wb\"))\n",
    "#filename.close()"
   ]
  },
  {
   "cell_type": "code",
   "execution_count": 17,
   "metadata": {
    "ExecuteTime": {
     "end_time": "2024-03-31T05:34:56.536818500Z",
     "start_time": "2024-03-31T05:34:56.389250Z"
    }
   },
   "outputs": [],
   "source": [
    "# Nge save label yang sudah kita fit(ubah sesuai indeks) tadi\n",
    "\n",
    "# le_filename = open(\"label_mlp.pickle\", \"wb\")\n",
    "# pickle.dump(le, le_filename)\n",
    "# le_filename.close()\n"
   ]
  },
  {
   "cell_type": "code",
   "execution_count": 18,
   "metadata": {
    "ExecuteTime": {
     "end_time": "2024-03-31T05:34:56.591799200Z",
     "start_time": "2024-03-31T05:34:56.403355100Z"
    }
   },
   "outputs": [],
   "source": [
    "# save tfidf vocabularynya\n",
    "\n",
    "# import pickle\n",
    "# pickle.dump(tfidfVectorizer.vocabulary_, open(\"tfidf.pkl\", \"wb\"))"
   ]
  }
 ],
 "metadata": {
  "kernelspec": {
   "display_name": "Python 3.8.10 64-bit",
   "language": "python",
   "name": "python3"
  },
  "language_info": {
   "codemirror_mode": {
    "name": "ipython",
    "version": 3
   },
   "file_extension": ".py",
   "mimetype": "text/x-python",
   "name": "python",
   "nbconvert_exporter": "python",
   "pygments_lexer": "ipython3",
   "version": "3.8.10"
  },
  "orig_nbformat": 4,
  "vscode": {
   "interpreter": {
    "hash": "5d6959cc9e0c576843d9b684946a4d1d83b260926440dd63304e42c7ef4cd49c"
   }
  }
 },
 "nbformat": 4,
 "nbformat_minor": 2
}
